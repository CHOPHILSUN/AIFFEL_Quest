{
  "nbformat": 4,
  "nbformat_minor": 0,
  "metadata": {
    "colab": {
      "provenance": [],
      "toc_visible": true,
      "include_colab_link": true
    },
    "kernelspec": {
      "name": "python3",
      "display_name": "Python 3"
    },
    "language_info": {
      "name": "python"
    }
  },
  "cells": [
    {
      "cell_type": "markdown",
      "metadata": {
        "id": "view-in-github",
        "colab_type": "text"
      },
      "source": [
        "<a href=\"https://colab.research.google.com/github/CHOPHILSUN/AIFFEL_Quest/blob/master/Untitled0.ipynb\" target=\"_parent\"><img src=\"https://colab.research.google.com/assets/colab-badge.svg\" alt=\"Open In Colab\"/></a>"
      ]
    },
    {
      "cell_type": "code",
      "execution_count": null,
      "metadata": {
        "id": "v943Uy5uErMF"
      },
      "outputs": [],
      "source": [
        "#Quest Pair Programming\n",
        "#회문\n",
        "\n",
        "def string_input():\n",
        "  x = input()   # 함수를 실행하면 단어를 입력받아 x 변수에 저장\n",
        "  y = x[::-1]   # 순서를 거꾸로 바꿔서 y 변수에 저장\n",
        "  print(\"입력값:\\n\" + x)\n",
        "  print()\n",
        "  print(\"출력값:\\n\"+\"뒤집힌 단어는:\" + y)\n",
        "  if x == y:    # 만약 원래 입력한 단어와 순서를 거꾸로 한 단어가 같으면\n",
        "    print(\"입력된 단어는 회문입니다\") # 회문입니다. 문장 출력"
      ]
    },
    {
      "cell_type": "code",
      "source": [
        "string_input()"
      ],
      "metadata": {
        "colab": {
          "base_uri": "https://localhost:8080/"
        },
        "id": "_RBY-GctGxOs",
        "outputId": "e791122b-a1b2-4e5e-e24e-af2e2c83386a"
      },
      "execution_count": null,
      "outputs": [
        {
          "output_type": "stream",
          "name": "stdout",
          "text": [
            "뮻\n",
            "입력값:\n",
            " 뮻\n",
            "출력값:\n",
            "뒤집힌 단어는:  뮻\n",
            "입력된 단어는 회문입니다\n"
          ]
        }
      ]
    },
    {
      "cell_type": "markdown",
      "source": [
        "김영진 회고\n",
        "\n",
        "1 배운 점  \n",
        "인덱싱을 해서 거꾸로 출력하는 법을 다시 리마인드 했다.  \n",
        "if 문을 사용하는 방법을 다시 리마인드 했다.\n",
        "\n",
        "2 아쉬운 점  \n",
        "없는 것 같습니다.\n",
        "\n",
        "3 느낀 점  \n",
        "생각보다 코드가 간단하게 구현이 돼서 좋았다."
      ],
      "metadata": {
        "id": "gIMqSnAPUAOW"
      }
    }
  ]
}