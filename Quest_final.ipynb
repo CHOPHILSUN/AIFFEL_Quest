{
  "nbformat": 4,
  "nbformat_minor": 0,
  "metadata": {
    "colab": {
      "provenance": [],
      "include_colab_link": true
    },
    "kernelspec": {
      "name": "python3",
      "display_name": "Python 3"
    },
    "language_info": {
      "name": "python"
    }
  },
  "cells": [
    {
      "cell_type": "markdown",
      "metadata": {
        "id": "view-in-github",
        "colab_type": "text"
      },
      "source": [
        "<a href=\"https://colab.research.google.com/github/CHOPHILSUN/AIFFEL_Quest/blob/master/Quest_final.ipynb\" target=\"_parent\"><img src=\"https://colab.research.google.com/assets/colab-badge.svg\" alt=\"Open In Colab\"/></a>"
      ]
    },
    {
      "cell_type": "code",
      "execution_count": null,
      "metadata": {
        "id": "zhByj9fwC44P"
      },
      "outputs": [],
      "source": [
        "#Quest Pair Programming\n",
        "#회문\n",
        "\n",
        "def string_input():\n",
        "  x = input()   # 함수를 실행하면 단어를 입력받아 x 변수에 저장\n",
        "  y = x[::-1]   # 순서를 거꾸로 바꿔서 y 변수에 저장\n",
        "  print(\"입력값:\\n\" + x)\n",
        "  print()\n",
        "  print(\"출력값:\\n\"+\"뒤집힌 단어는:\" + y)\n",
        "  if x == y:    # 만약 원래 입력한 단어와 순서를 거꾸로 한 단어가 같으면\n",
        "    print(\"입력된 단어는 회문입니다\") # 회문입니다. 문장 출력"
      ]
    },
    {
      "cell_type": "code",
      "source": [
        "string_input()"
      ],
      "metadata": {
        "colab": {
          "base_uri": "https://localhost:8080/"
        },
        "id": "wMlz9Fa8L-qn",
        "outputId": "68f14bd4-e44a-48e6-ab8d-fa0eeacf59c4"
      },
      "execution_count": null,
      "outputs": [
        {
          "output_type": "stream",
          "name": "stdout",
          "text": [
            "121\n",
            "입력값:\n",
            "121\n",
            "\n",
            "출력값:\n",
            "뒤집힌 단어는:121\n",
            "입력된 단어는 회문입니다\n"
          ]
        }
      ]
    },
    {
      "cell_type": "markdown",
      "source": [
        "김영진 회고\n",
        "\n",
        "1 배운 점  \n",
        "인덱싱을 해서 거꾸로 출력하는 법을 다시 리마인드 했다.\n",
        "if 문을 사용하는 방법을 다시 리마인드 했다.\n",
        "\n",
        "2 아쉬운 점  \n",
        "없는 것 같습니다.\n",
        "\n",
        "3 느낀 점  \n",
        "생각보다 코드가 간단하게 구현이 돼서 좋았다."
      ],
      "metadata": {
        "id": "jLgQ2ehnSU0Q"
      }
    },
    {
      "cell_type": "markdown",
      "source": [
        " 조필선 회고\n",
        "\n",
        " 1.배운 점\n",
        " - 페어 프로그래밍 Quest를 통해서 협력해서 코딩하는 법을 경험했다.\n",
        "\n",
        " 2.아쉬운 점\n",
        " - 파이썬이 아직 익숙하지 않고 문제를 보고도 이해하는데 시간이 한참 걸려서 압박감이 느껴졌다.\n",
        "\n",
        " 3.느낀 점\n",
        " - 영진 그루님이 많은 도움을 줘서 고맙고 조금 더 파이썬 문제를 하루에 몇개씩이라도 풀어야겠다는 생각을 하게 되었다."
      ],
      "metadata": {
        "id": "205QvHyjU-QO"
      }
    },
    {
      "cell_type": "markdown",
      "source": [
        "김연 & 필선 그루 코드 리뷰\n",
        "\n",
        "김연 & 오선화 회고문 작성 코드 by 코드 리뷰어 필선\n",
        "\n",
        "txt = input(\"input: \")          # input  함수로 사용자로부터 문자열을 입력받음.\n",
        "a = txt[::-1]                # a 라는 변수에 입력받은 문자열을 뒤집어서 저장함.\n",
        "\n",
        "print(\"뒤집힌 단어는\", str(a), \"입니다.\") #str함수로 받은 문자열을 출력함.\n",
        "\n",
        "if txt == a:          # 두 문자열을 비교해서 같으면 TURE 출력\n",
        "  print(\"회문입니다\")\n",
        "else                  # 위 조건이 아닐 경우 FALSE 출력\n",
        "  print(\"회문이 아닙니다\")\n",
        "\n",
        "\n",
        "저희 팀이 짠 코드와 비교해봤을 때 더 깔끔하고 효율적인 코드 같습니다!"
      ],
      "metadata": {
        "id": "6DgX0whrfDby"
      }
    },
    {
      "cell_type": "markdown",
      "source": [
        "Quest 01. 회문인지 아닌지 확인하는 프로그램\n",
        "난이도: 🟡⚪⚪⚪⚪\n",
        "장르: 자료형, 제어문, 함수\n",
        "\n",
        "AIFFEL Campus Online Code Peer Review\n",
        "코더 : 조필선\n",
        "리뷰어 : 김연\n",
        "\n",
        "\n",
        "\n",
        "def string_input(): # 함수를 실행하면 단어를 입력받아 x 변수에 저장\n",
        "  x = input() # 순서를 거꾸로 바꿔서 y 변수에 저장\n",
        "  y = x[::-1]\n",
        "  print(\"입력값:₩n\" + x)\n",
        "  print()\n",
        "  print(\"출력값:₩n\" + \"뒤집힌 단어는:\" + y)\n",
        "  if x == y: # 만약 원래 입력한 단어와 순서를 거꾸로 한 단어가 같으면\n",
        "    print(\"입력된 단어는 회문입니다.\") # \"회문입니다.\" 문장이 출력됩니다.\n",
        "\n",
        "\n",
        "\n",
        "\n",
        "PRT(Peer Review Template)\n",
        "[✔️] 1. 주어진 문제를 해결하는 완성된 코드가 제출되었나요?\n",
        "- 문제에서 요구하는 최종 결과물이 첨부되었는지 확인\n",
        "- 문제를 해결하는 완성된 코드란 프로젝트 루브릭 3개 중 2개, 퀘스트 문제 요구조건 등을 지칭\n",
        "- 해당 조건을 만족하는 코드를 캡쳐해 근거로 첨부\n",
        "\n",
        "[✔️] 2. 전체 코드에서 가장 핵심적이거나 가장 복잡하고 이해하기 어려운 부분에 작성된 주석\n",
        "또는 doc string을 보고 해당 코드가 잘 이해되었나요?\n",
        "- 해당 코드 블럭에 doc string/annotation이 달려 있는지 확인\n",
        "- 해당 코드가 무슨 기능을 하는지, 왜 그렇게 짜여진건지, 작동 메커니즘이 뭔지 기술.\n",
        "- 주석을 보고 코드 이해가 잘 되었는지 확인\n",
        "- 잘 작성되었다고 생각되는 부분을 캡쳐해 근거로 첨부합니다.\n",
        "\n",
        "[✔️] 3. 에러가 난 부분을 디버깅하여 문제를 “해결한 기록을 남겼거나”\n",
        "”새로운 시도 또는 추가 실험을 수행”해봤나요?\n",
        "- 문제 원인 및 해결 과정을 잘 기록하였는지 확인\n",
        "- 문제에서 요구하는 조건에 더해 추가적으로 수행한 나만의 시도, 실험이 기록되어 있는지 확인\n",
        "- 잘 작성되었다고 생각되는 부분을 캡쳐해 근거로 첨부합니다.\n",
        "\n",
        "[✔️] 4. 회고를 잘 작성했나요?\n",
        "- 주어진 문제를 해결하는 완성된 코드 내지 프로젝트 결과물에 대해 배운점과 아쉬운점, 느낀점 등이 기록되어 있는지 확인\n",
        "- 전체 코드 실행 플로우를 그래프로 그려서 이해를 돕고 있는지 확인\n",
        "- 잘 작성되었다고 생각되는 부분을 캡쳐해 근거로 첨부합니다.\n",
        "\n",
        "[✔️] 5. 코드가 간결하고 효율적인가요?\n",
        "- 파이썬 스타일 가이드 (PEP8) 를 준수하였는지 확인\n",
        "- 하드코딩을 하지않고 함수화, 모듈화가 가능한 부분은 함수를 만들거나 클래스로 짰는지\n",
        "- 코드 중복을 최소화하고 범용적으로 사용할 수 있도록 함수화했는지\n",
        "- 잘 작성되었다고 생각되는 부분을 캡쳐해 근거로 첨부합니다.\n",
        "\n",
        "회고\n",
        "배운 점\n",
        "함수를 활용해서 문제를 풀이하는 방식을 새롭게 알 수 있었습니다.\n",
        "\n",
        "아쉬운 점\n",
        "파이썬 신텍스 작성이 익숙하지 않아서 답을 도출하기 위한 코드를 디자인하는 것이 어려웠습니다.\n",
        "\n",
        "느낀 점\n",
        "그루 분들과 문제에 대해 의논하고 답을 찾기 위해 노력했던 과정이 즐겁고 유익했습니다."
      ],
      "metadata": {
        "id": "b7urHbgG5LMV"
      }
    }
  ]
}